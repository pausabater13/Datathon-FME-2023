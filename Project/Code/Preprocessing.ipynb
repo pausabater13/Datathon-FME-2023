{
 "cells": [
  {
   "cell_type": "code",
   "execution_count": 4,
   "metadata": {},
   "outputs": [],
   "source": [
    "import pandas as pd\n",
    "import numpy as np"
   ]
  },
  {
   "cell_type": "code",
   "execution_count": 17,
   "metadata": {},
   "outputs": [
    {
     "data": {
      "text/html": [
       "<div>\n",
       "<style scoped>\n",
       "    .dataframe tbody tr th:only-of-type {\n",
       "        vertical-align: middle;\n",
       "    }\n",
       "\n",
       "    .dataframe tbody tr th {\n",
       "        vertical-align: top;\n",
       "    }\n",
       "\n",
       "    .dataframe thead th {\n",
       "        text-align: right;\n",
       "    }\n",
       "</style>\n",
       "<table border=\"1\" class=\"dataframe\">\n",
       "  <thead>\n",
       "    <tr style=\"text-align: right;\">\n",
       "      <th></th>\n",
       "      <th>cod_modelo_color</th>\n",
       "      <th>cod_color_code</th>\n",
       "      <th>des_color_specification_esp</th>\n",
       "      <th>des_agrup_color_eng</th>\n",
       "      <th>des_sex</th>\n",
       "      <th>des_age</th>\n",
       "      <th>des_line</th>\n",
       "      <th>des_fabric</th>\n",
       "      <th>des_product_category</th>\n",
       "      <th>des_product_aggregated_family</th>\n",
       "      <th>des_product_family</th>\n",
       "      <th>des_product_type</th>\n",
       "      <th>des_filename</th>\n",
       "    </tr>\n",
       "  </thead>\n",
       "  <tbody>\n",
       "    <tr>\n",
       "      <th>0</th>\n",
       "      <td>41085800-02</td>\n",
       "      <td>02</td>\n",
       "      <td>OFFWHITE</td>\n",
       "      <td>WHITE</td>\n",
       "      <td>Female</td>\n",
       "      <td>Adult</td>\n",
       "      <td>SHE</td>\n",
       "      <td>P-PLANA</td>\n",
       "      <td>Bottoms</td>\n",
       "      <td>Trousers &amp; leggings</td>\n",
       "      <td>Trousers</td>\n",
       "      <td>Trousers</td>\n",
       "      <td>datathon/images/2019_41085800_02.jpg</td>\n",
       "    </tr>\n",
       "    <tr>\n",
       "      <th>1</th>\n",
       "      <td>53000586-TO</td>\n",
       "      <td>TO</td>\n",
       "      <td>TEJANO OSCURO</td>\n",
       "      <td>BLUE</td>\n",
       "      <td>Female</td>\n",
       "      <td>Adult</td>\n",
       "      <td>SHE</td>\n",
       "      <td>J-JEANS</td>\n",
       "      <td>Bottoms</td>\n",
       "      <td>Jeans</td>\n",
       "      <td>Jeans</td>\n",
       "      <td>Jeans</td>\n",
       "      <td>datathon/images/2019_53000586_TO.jpg</td>\n",
       "    </tr>\n",
       "    <tr>\n",
       "      <th>2</th>\n",
       "      <td>53030601-81</td>\n",
       "      <td>81</td>\n",
       "      <td>ROSA PASTEL</td>\n",
       "      <td>PINK</td>\n",
       "      <td>Female</td>\n",
       "      <td>Adult</td>\n",
       "      <td>SHE</td>\n",
       "      <td>P-PLANA</td>\n",
       "      <td>Dresses, jumpsuits and Complete set</td>\n",
       "      <td>Dresses and jumpsuits</td>\n",
       "      <td>Dresses</td>\n",
       "      <td>Dress</td>\n",
       "      <td>datathon/images/2019_53030601_81.jpg</td>\n",
       "    </tr>\n",
       "    <tr>\n",
       "      <th>3</th>\n",
       "      <td>53050730-15</td>\n",
       "      <td>15</td>\n",
       "      <td>MOSTAZA</td>\n",
       "      <td>YELLOW</td>\n",
       "      <td>Female</td>\n",
       "      <td>Adult</td>\n",
       "      <td>SHE</td>\n",
       "      <td>P-PLANA</td>\n",
       "      <td>Dresses, jumpsuits and Complete set</td>\n",
       "      <td>Dresses and jumpsuits</td>\n",
       "      <td>Dresses</td>\n",
       "      <td>Dress</td>\n",
       "      <td>datathon/images/2019_53050730_15.jpg</td>\n",
       "    </tr>\n",
       "    <tr>\n",
       "      <th>4</th>\n",
       "      <td>53070773-70</td>\n",
       "      <td>70</td>\n",
       "      <td>ROJO</td>\n",
       "      <td>RED</td>\n",
       "      <td>Female</td>\n",
       "      <td>Adult</td>\n",
       "      <td>SHE</td>\n",
       "      <td>P-PLANA</td>\n",
       "      <td>Tops</td>\n",
       "      <td>Shirts</td>\n",
       "      <td>Shirt</td>\n",
       "      <td>Shirt</td>\n",
       "      <td>datathon/images/2019_53070773_70.jpg</td>\n",
       "    </tr>\n",
       "  </tbody>\n",
       "</table>\n",
       "</div>"
      ],
      "text/plain": [
       "  cod_modelo_color cod_color_code des_color_specification_esp  \\\n",
       "0      41085800-02             02                    OFFWHITE   \n",
       "1      53000586-TO             TO               TEJANO OSCURO   \n",
       "2      53030601-81             81                 ROSA PASTEL   \n",
       "3      53050730-15             15                     MOSTAZA   \n",
       "4      53070773-70             70                        ROJO   \n",
       "\n",
       "  des_agrup_color_eng des_sex des_age des_line des_fabric  \\\n",
       "0               WHITE  Female   Adult      SHE    P-PLANA   \n",
       "1                BLUE  Female   Adult      SHE    J-JEANS   \n",
       "2                PINK  Female   Adult      SHE    P-PLANA   \n",
       "3              YELLOW  Female   Adult      SHE    P-PLANA   \n",
       "4                 RED  Female   Adult      SHE    P-PLANA   \n",
       "\n",
       "                  des_product_category des_product_aggregated_family  \\\n",
       "0                              Bottoms           Trousers & leggings   \n",
       "1                              Bottoms                         Jeans   \n",
       "2  Dresses, jumpsuits and Complete set         Dresses and jumpsuits   \n",
       "3  Dresses, jumpsuits and Complete set         Dresses and jumpsuits   \n",
       "4                                 Tops                        Shirts   \n",
       "\n",
       "  des_product_family des_product_type                          des_filename  \n",
       "0           Trousers         Trousers  datathon/images/2019_41085800_02.jpg  \n",
       "1              Jeans            Jeans  datathon/images/2019_53000586_TO.jpg  \n",
       "2            Dresses            Dress  datathon/images/2019_53030601_81.jpg  \n",
       "3            Dresses            Dress  datathon/images/2019_53050730_15.jpg  \n",
       "4              Shirt            Shirt  datathon/images/2019_53070773_70.jpg  "
      ]
     },
     "execution_count": 17,
     "metadata": {},
     "output_type": "execute_result"
    }
   ],
   "source": [
    "MyOutfitData = pd.read_csv(\"../../datathon-2023-fashion-compatibility-main/datathon/dataset/outfit_data.csv\")\n",
    "MyProductData = pd.read_csv(\"../../datathon-2023-fashion-compatibility-main/datathon/dataset/product_data.csv\")\n",
    "MyProductData.head()"
   ]
  },
  {
   "cell_type": "code",
   "execution_count": 33,
   "metadata": {},
   "outputs": [
    {
     "name": "stdout",
     "output_type": "stream",
     "text": [
      "2415\n"
     ]
    }
   ],
   "source": [
    "X = np.zeros(len(MyOutfitData))\n",
    "Y = np.zeros(len(MyOutfitData))\n",
    "print(MyOutfitData.loc[7235, 'cod_outfit'])"
   ]
  },
  {
   "cell_type": "code",
   "execution_count": 31,
   "metadata": {},
   "outputs": [
    {
     "data": {
      "text/plain": [
       "['NAVY',\n",
       " 'BLUE',\n",
       " 'Female',\n",
       " 'Adult',\n",
       " 'SHE',\n",
       " 'T-TRICOT',\n",
       " 'Tops',\n",
       " 'Sweaters and Cardigans',\n",
       " 'Sweater',\n",
       " 'Sweater']"
      ]
     },
     "execution_count": 31,
     "metadata": {},
     "output_type": "execute_result"
    }
   ],
   "source": [
    "#Returns the parameters given a clothe code (string)\n",
    "def codeToProduct (code):\n",
    "    found = False\n",
    "    index = 0\n",
    "    while (not found and index<len(MyProductData)):\n",
    "        if code in MyProductData.loc[index, 'des_filename']:\n",
    "            found= True\n",
    "            return [MyProductData.loc[index, 'des_color_specification_esp'],\n",
    "                MyProductData.loc[index, 'des_agrup_color_eng'],\n",
    "                MyProductData.loc[index, 'des_sex'],\n",
    "                MyProductData.loc[index, 'des_age'],\n",
    "                MyProductData.loc[index, 'des_line'],\n",
    "                MyProductData.loc[index, 'des_fabric'],\n",
    "                MyProductData.loc[index, 'des_product_category'],\n",
    "                MyProductData.loc[index, 'des_product_aggregated_family'],\n",
    "                MyProductData.loc[index, 'des_product_family'],\n",
    "                MyProductData.loc[index, 'des_product_type']]\n",
    "        index+=1\n",
    "    return -1\n",
    "\n",
    "codeToProduct(\"2019_43005014_56\")"
   ]
  },
  {
   "cell_type": "code",
   "execution_count": null,
   "metadata": {},
   "outputs": [],
   "source": [
    "#Returns 1 if the clothe is in the outfit, 0 otherwise\n",
    "def isInOutfit (clothe, index):\n",
    "    found = False\n",
    "    for index in range(len(MyOutfitData)):\n",
    "        if(MyOutfitData.loc[index, 'cod_outfit'])\n",
    "            return 1\n",
    "        else if ()\n",
    "    return False"
   ]
  },
  {
   "cell_type": "code",
   "execution_count": null,
   "metadata": {},
   "outputs": [],
   "source": [
    "#\n",
    "for index in range(len(MyOutfitData)):\n",
    "    cod_outfit = MyOutfitData.loc[index, 'cod_outfit'] # Accede a los valores de cada columna\n",
    "    cod_modelo_color = MyOutfitData.loc[index, 'cod_modelo_color']\n",
    "    X[index] = cod_outfit\n",
    "    Y[i] = np.zeros(len(MyProductData))\n",
    "    for k in range(len(MyProductData)):\n",
    "        Y[i][k]=isInOutfit(k, index)"
   ]
  }
 ],
 "metadata": {
  "kernelspec": {
   "display_name": "Python 3",
   "language": "python",
   "name": "python3"
  },
  "language_info": {
   "codemirror_mode": {
    "name": "ipython",
    "version": 3
   },
   "file_extension": ".py",
   "mimetype": "text/x-python",
   "name": "python",
   "nbconvert_exporter": "python",
   "pygments_lexer": "ipython3",
   "version": "3.9.6"
  }
 },
 "nbformat": 4,
 "nbformat_minor": 2
}
