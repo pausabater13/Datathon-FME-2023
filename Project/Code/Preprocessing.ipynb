{
 "cells": [
  {
   "cell_type": "code",
   "execution_count": 126,
   "metadata": {},
   "outputs": [],
   "source": [
    "import pandas as pd\n",
    "import numpy as np"
   ]
  },
  {
   "cell_type": "code",
   "execution_count": 127,
   "metadata": {},
   "outputs": [
    {
     "data": {
      "text/html": [
       "<div>\n",
       "<style scoped>\n",
       "    .dataframe tbody tr th:only-of-type {\n",
       "        vertical-align: middle;\n",
       "    }\n",
       "\n",
       "    .dataframe tbody tr th {\n",
       "        vertical-align: top;\n",
       "    }\n",
       "\n",
       "    .dataframe thead th {\n",
       "        text-align: right;\n",
       "    }\n",
       "</style>\n",
       "<table border=\"1\" class=\"dataframe\">\n",
       "  <thead>\n",
       "    <tr style=\"text-align: right;\">\n",
       "      <th></th>\n",
       "      <th>cod_modelo_color</th>\n",
       "      <th>cod_color_code</th>\n",
       "      <th>des_color_specification_esp</th>\n",
       "      <th>des_agrup_color_eng</th>\n",
       "      <th>des_sex</th>\n",
       "      <th>des_age</th>\n",
       "      <th>des_line</th>\n",
       "      <th>des_fabric</th>\n",
       "      <th>des_product_category</th>\n",
       "      <th>des_product_aggregated_family</th>\n",
       "      <th>des_product_family</th>\n",
       "      <th>des_product_type</th>\n",
       "      <th>des_filename</th>\n",
       "    </tr>\n",
       "  </thead>\n",
       "  <tbody>\n",
       "    <tr>\n",
       "      <th>0</th>\n",
       "      <td>41085800-02</td>\n",
       "      <td>02</td>\n",
       "      <td>OFFWHITE</td>\n",
       "      <td>WHITE</td>\n",
       "      <td>Female</td>\n",
       "      <td>Adult</td>\n",
       "      <td>SHE</td>\n",
       "      <td>P-PLANA</td>\n",
       "      <td>Bottoms</td>\n",
       "      <td>Trousers &amp; leggings</td>\n",
       "      <td>Trousers</td>\n",
       "      <td>Trousers</td>\n",
       "      <td>datathon/images/2019_41085800_02.jpg</td>\n",
       "    </tr>\n",
       "    <tr>\n",
       "      <th>1</th>\n",
       "      <td>53000586-TO</td>\n",
       "      <td>TO</td>\n",
       "      <td>TEJANO OSCURO</td>\n",
       "      <td>BLUE</td>\n",
       "      <td>Female</td>\n",
       "      <td>Adult</td>\n",
       "      <td>SHE</td>\n",
       "      <td>J-JEANS</td>\n",
       "      <td>Bottoms</td>\n",
       "      <td>Jeans</td>\n",
       "      <td>Jeans</td>\n",
       "      <td>Jeans</td>\n",
       "      <td>datathon/images/2019_53000586_TO.jpg</td>\n",
       "    </tr>\n",
       "    <tr>\n",
       "      <th>2</th>\n",
       "      <td>53030601-81</td>\n",
       "      <td>81</td>\n",
       "      <td>ROSA PASTEL</td>\n",
       "      <td>PINK</td>\n",
       "      <td>Female</td>\n",
       "      <td>Adult</td>\n",
       "      <td>SHE</td>\n",
       "      <td>P-PLANA</td>\n",
       "      <td>Dresses, jumpsuits and Complete set</td>\n",
       "      <td>Dresses and jumpsuits</td>\n",
       "      <td>Dresses</td>\n",
       "      <td>Dress</td>\n",
       "      <td>datathon/images/2019_53030601_81.jpg</td>\n",
       "    </tr>\n",
       "    <tr>\n",
       "      <th>3</th>\n",
       "      <td>53050730-15</td>\n",
       "      <td>15</td>\n",
       "      <td>MOSTAZA</td>\n",
       "      <td>YELLOW</td>\n",
       "      <td>Female</td>\n",
       "      <td>Adult</td>\n",
       "      <td>SHE</td>\n",
       "      <td>P-PLANA</td>\n",
       "      <td>Dresses, jumpsuits and Complete set</td>\n",
       "      <td>Dresses and jumpsuits</td>\n",
       "      <td>Dresses</td>\n",
       "      <td>Dress</td>\n",
       "      <td>datathon/images/2019_53050730_15.jpg</td>\n",
       "    </tr>\n",
       "    <tr>\n",
       "      <th>4</th>\n",
       "      <td>53070773-70</td>\n",
       "      <td>70</td>\n",
       "      <td>ROJO</td>\n",
       "      <td>RED</td>\n",
       "      <td>Female</td>\n",
       "      <td>Adult</td>\n",
       "      <td>SHE</td>\n",
       "      <td>P-PLANA</td>\n",
       "      <td>Tops</td>\n",
       "      <td>Shirts</td>\n",
       "      <td>Shirt</td>\n",
       "      <td>Shirt</td>\n",
       "      <td>datathon/images/2019_53070773_70.jpg</td>\n",
       "    </tr>\n",
       "  </tbody>\n",
       "</table>\n",
       "</div>"
      ],
      "text/plain": [
       "  cod_modelo_color cod_color_code des_color_specification_esp  \\\n",
       "0      41085800-02             02                    OFFWHITE   \n",
       "1      53000586-TO             TO               TEJANO OSCURO   \n",
       "2      53030601-81             81                 ROSA PASTEL   \n",
       "3      53050730-15             15                     MOSTAZA   \n",
       "4      53070773-70             70                        ROJO   \n",
       "\n",
       "  des_agrup_color_eng des_sex des_age des_line des_fabric  \\\n",
       "0               WHITE  Female   Adult      SHE    P-PLANA   \n",
       "1                BLUE  Female   Adult      SHE    J-JEANS   \n",
       "2                PINK  Female   Adult      SHE    P-PLANA   \n",
       "3              YELLOW  Female   Adult      SHE    P-PLANA   \n",
       "4                 RED  Female   Adult      SHE    P-PLANA   \n",
       "\n",
       "                  des_product_category des_product_aggregated_family  \\\n",
       "0                              Bottoms           Trousers & leggings   \n",
       "1                              Bottoms                         Jeans   \n",
       "2  Dresses, jumpsuits and Complete set         Dresses and jumpsuits   \n",
       "3  Dresses, jumpsuits and Complete set         Dresses and jumpsuits   \n",
       "4                                 Tops                        Shirts   \n",
       "\n",
       "  des_product_family des_product_type                          des_filename  \n",
       "0           Trousers         Trousers  datathon/images/2019_41085800_02.jpg  \n",
       "1              Jeans            Jeans  datathon/images/2019_53000586_TO.jpg  \n",
       "2            Dresses            Dress  datathon/images/2019_53030601_81.jpg  \n",
       "3            Dresses            Dress  datathon/images/2019_53050730_15.jpg  \n",
       "4              Shirt            Shirt  datathon/images/2019_53070773_70.jpg  "
      ]
     },
     "execution_count": 127,
     "metadata": {},
     "output_type": "execute_result"
    }
   ],
   "source": [
    "MyOutfitData = pd.read_csv(\"../../datathon-2023-fashion-compatibility-main/datathon/dataset/outfit_data.csv\")\n",
    "MyProductData = pd.read_csv(\"../../datathon-2023-fashion-compatibility-main/datathon/dataset/product_data.csv\")\n",
    "MyProductData.head()"
   ]
  },
  {
   "cell_type": "code",
   "execution_count": 33,
   "metadata": {},
   "outputs": [
    {
     "name": "stdout",
     "output_type": "stream",
     "text": [
      "2415\n"
     ]
    }
   ],
   "source": []
  },
  {
   "cell_type": "code",
   "execution_count": 128,
   "metadata": {},
   "outputs": [],
   "source": [
    "des_color_specification_esp = [\"AGUA\",\"AMARILLO\",\"AMARILLO FLUOR\",\"AMARILLO PASTEL\",\"ANTRACITA\",\"ARENA\",\"ASFALTO\",\"AZUL\",\"AZUL NOCHE\",\"BEIGE\",\"BERMELLON\",\"BILLAR\",\"BLANCO\",\"BLEACH\",\"BLOOD\",\"BLUEBLACK\",\"BOTELLA\",\"BURDEOS\",\"CALDERO\",\"CAMEL\",\"CANELA\",\"CARAMELO\",\"CAZA\",\"CELESTE\",\"CENIZA\",\"CEREZA\",\"CHICLE\",\"CHOCOLATE\",\"CIRUELA\",\"COBRE\",\"COFFEE\",\"COGNAC\",\"CORAL\",\"CRUDO\",\"CUERO\",\"CURRY\",\"DIRTY\",\"DIRTY CLARO\",\"DIRTY OSCURO\",\"ELECTRICO\",\"ESMERALDA\",\"FRESA\",\"FUCSIA\",\"GERANIO\",\"GRANATE\",\"GRIS\",\"GRIS CLARO VIGORE\",\"GRIS MEDIO VIGORE\",\"GRIS OSCURO VIGORE\",\"GUNMETAL\",\"HIELO\",\"INDIGO\",\"KHAKI\",\"LILA\",\"LIMA\",\"MALVA\",\"MANDARINA\",\"MANZANA\",\"MARFIL\",\"MARINO\",\"MARRON\",\"MENTA\",\"MISTERIO\",\"MORADO\",\"MOSTAZA\",\"MUSGO\",\"NARANJA\",\"NARANJA PASTEL\",\"NAVY\",\"NEGRO\",\"NUDE\",\"OCRE\",\"OFFWHITE\",\"OLIVA\",\"ORO\",\"PEACH\",\"PERLA\",\"PETROLEO\",\"PIEDRA\",\"PIMENTON\",\"PLATA\",\"PORCELANA\",\"PRUSIA\",\"ROJO\",\"ROSA\",\"ROSA FLUOR\",\"ROSA LIGHT\",\"ROSA PALO\",\"ROSA PASTEL\",\"SALMON\",\"TABACO\",\"TAUPE\",\"TEJANO CLARO\",\"TEJANO GRIS\",\"TEJANO GRIS CLARO\",\"TEJANO GRIS OSCURO\",\"TEJANO MEDIO\",\"TEJANO NEGRO\",\"TEJANO OSCURO\",\"TEJANO SOFT\",\"TERRACOTA\",\"TINTA\",\"TOPO\",\"TURQUESA\",\"VAINILLA\",\"VERDE\",\"VERDE PASTEL\",\"VINO\",\"VIOLETA\",\"VISON\"]\n",
    "\n",
    "des_agrup_color_eng = [\"BLUE\",\"BROWN\",\"GREEN\",\"GREY\",\"ORANGE\",\"PINK\",\"PURPLE\",\"RED\",\"WHITE\",\"YELLOW\"]\n",
    "\n",
    "des_sex = [\"Female\",\"Male\",\"Unisex\"]\n",
    "\n",
    "des_age = [\"Adult\",\"Kids\"]\n",
    "\n",
    "des_line = [\"HE\",\"HOME\",\"KIDS\",\"SHE\",\"VIOLETA\"]\n",
    "\n",
    "des_fabric = [\"C-COMPLEMENTOS\",\"J-JEANS\",\"K-CIRCULAR\",\"L-PIEL\",\"O-POLIPIEL\",\"P-PLANA\",\"T-TRICOT\"]\n",
    "\n",
    "des_product_category = [\"Accesories, Swim and Intimate\",\"Beauty\",\"Bottoms\",\"Dresses, jumpsuits and Complete set\",\"Home\",\"Outerwear\",\"Tops\"]\n",
    "\n",
    "des_product_aggregated_family = [\"Accessories\",\"Bedroom\",\"Coats and Parkas\",\"Decor\",\"Dinning Room\",\"Dresses and jumpsuits\",\"Fragance\",\"Jackets and Blazers\",\"Jeans\",\"Shirts\",\"Skirts and shorts\",\"Sweaters and Cardigans\",\"Swim and intimate\",\"T-shirts\",\"Tops\",\"Trousers & leggings\"]\n",
    "\n",
    "des_product_family = [\"Bags\",\"Bedding\",\"Belts and Ties\",\"Blazers\",\"Bodysuits\",\"Cardigans\",\"Coats\",\"Deco Accessories\",\"Deco Textiles\",\"Dresses\",\"Footwear\",\"Fragances\",\"Gadgets\",\"Glasses\",\"Glassware\",\"Hats, scarves and gloves\",\"Intimate\",\"Jackets\",\"Jeans\",\"Jewellery\",\"Jumpsuit\",\"Leather jackets\",\"Leggings and joggers\",\"Outer Vest\",\"Parkas\",\"Poloshirts\",\"Puffer coats\",\"Shirt\",\"Shorts\",\"Skirts\",\"Sweater\",\"Sweatshirts\",\"Swimwear\",\"T-shirt\",\"Tops\",\"Trenchcoats\",\"Trousers\",\"Vest\",\"Wallets & cases\"]\n",
    "\n",
    "des_product_type = [\"Ankle Boots\",\"Backpack\",\"Basket\",\"Beach Towel\",\"Beanie\",\"Bed Cushion Case\",\"Bedspread\",\"Belt\",\"Belt bag\",\"Bermudas\",\"Bikini pantie\",\"Bikini top\",\"Blazer\",\"Blouse\",\"Bodymist\",\"Bodysuit\",\"Boots\",\"Box\",\"Bracelet\",\"Braces\",\"Bras\",\"Bucket bag\",\"Candle\",\"Candle Holder\",\"Cap\",\"Cape\",\"Card holder\",\"Cardigan\",\"Cardigan Vest\",\"Carpet Yarn\",\"Case\",\"Citybag\",\"Clogs\",\"Clutch and Pochettes\",\"Coat\",\"Cosmetic bag\",\"Crossbody bag\",\"Curtain\",\"Cushion Case\",\"Dress\",\"Dressing Gown (Bata)\",\"Duvet Covers\",\"Earrings\",\"Foulard\",\"Fragance\",\"Gadget\",\"Glasses\",\"Glasses case\",\"Gloves\",\"Hairband\",\"Hairclip\",\"Handbag\",\"Hat\",\"Headband\",\"Home Spray\",\"Jacket\",\"Jacket (Cazadora)\",\"Jeans\",\"Joggers\",\"Jug\",\"Jumpsuit\",\"Kaftan\",\"Kerchief\",\"Keyring\",\"Knicker\",\"Leather Jacket\",\"Leggings\",\"Mini Bag\",\"Necklace\",\"Nightgown\",\"Organiser\",\"Outer vest\",\"Overall\",\"Overshirt\",\"Parka\",\"Pichi\",\"Pillow Case\",\"Plaid\",\"Poloshirt\",\"Poncho\",\"Puffer coat\",\"Purse\",\"Pyjama\",\"Pyjama Cardigan\",\"Pyjama Shirt\",\"Pyjama Shorts\",\"Pyjama Sweatshirt\",\"Pyjama T-Shirt\",\"Pyjama Top\",\"Pyjama Trousers\",\"Pyjiama Sweater\",\"Quilt\",\"Ring\",\"Sandals\",\"Scarf\",\"Shape\",\"Shirt\",\"Shoes\",\"Shorts\",\"Shoulder bag\",\"Skirt\",\"Skort\",\"Slippers\",\"Sock (Pack)\",\"Socks\",\"Sunglasses\",\"Sweater\",\"Sweater Vest\",\"Sweatshirt\",\"Swimsuit\",\"T-Shirt\",\"Tie\",\"Tights\",\"Top\",\"Totes bag\",\"Trainers\",\"Trenchcoat\",\"Trousers\",\"Tumblers\",\"Turban\",\"Umbrella\",\"Vest\",\"Wallet\"]"
   ]
  },
  {
   "cell_type": "code",
   "execution_count": 129,
   "metadata": {},
   "outputs": [],
   "source": [
    "def get_des_color_specification_esp(color):\n",
    "    if color in des_color_specification_esp:    # Check if the input color is valid\n",
    "        return des_color_specification_esp.index(color) # Return the position of the color in the list (0-based index)\n",
    "    else:\n",
    "        return null  # Return null for an invalid color\n",
    "\n",
    "\n",
    "def get_des_agrup_color_eng(color2):\n",
    "    if color2 in des_agrup_color_eng:   # Check if the input color2 is valid\n",
    "        return des_agrup_color_eng.index(color2)# Return the position of the color2 in the list (0-based index)\n",
    "    else:\n",
    "        return null  # Return null for an invalid color2\n",
    "\n",
    "\n",
    "def get_des_sex(sex):\n",
    "    if sex in des_sex:# Check if the input sex is valid\n",
    "        return des_sex.index(sex)# Return the position of the sex in the list (0-based index)\n",
    "    else:\n",
    "        return null  # Return null for an invalid sex\n",
    "\n",
    "\n",
    "def get_des_age(age):\n",
    "    if age in des_age:# Check if the input age is valid\n",
    "        return des_age.index(age)# Return the position of the age in the list (0-based index)\n",
    "    else:\n",
    "        return null  # Return null for an invalid age\n",
    "\n",
    "\n",
    "def get_des_line(line):\n",
    "    if line in des_line:    # Check if the input line is valid\n",
    "        return des_line.index(line) # Return the position of the line in the list (0-based index)\n",
    "    else:\n",
    "        return null  # Return null for an invalid line\n",
    "\n",
    "\n",
    "def get_des_fabric(fabric):\n",
    "    if fabric in des_fabric:# Check if the input fabric is valid\n",
    "        return des_fabric.index(fabric)# Return the position of the fabric in the list (0-based index)\n",
    "    else:\n",
    "        return null  # Return null for an invalid fabric\n",
    "\n",
    "\n",
    "def get_des_product_category(category):\n",
    "    if category in des_product_category:# Check if the input category is valid\n",
    "        return des_product_category.index(category)# Return the position of the category in the list (0-based index)\n",
    "    else:\n",
    "        return null  # Return null for an invalid category\n",
    "\n",
    "\n",
    "def get_des_aggregated_family(ag_f):\n",
    "    if ag_f in des_product_aggregated_family:# Check if the input ag_f is valid\n",
    "        return des_product_aggregated_family.index(ag_f)# Return the position of the ag_f in the list (0-based index)\n",
    "    else:\n",
    "        return null  # Return null for an invalid ag_f\n",
    "\n",
    "\n",
    "def get_des_product_family(family):\n",
    "    if family in des_product_family: # Check if the input family is valid\n",
    "        return des_product_family.index(family)# Return the position of the family in the list (0-based index)\n",
    "    else:\n",
    "        return null  # Return null for an invalid family\n",
    "\n",
    "\n",
    "def get_des_product_type(type):\n",
    "    if type in des_product_type:# Check if the input type is valid\n",
    "        return des_product_type.index(type)# Return the position of the type in the list (0-based index)\n",
    "    else:\n",
    "        return null  # Return null for an invalid type"
   ]
  },
  {
   "cell_type": "code",
   "execution_count": 130,
   "metadata": {},
   "outputs": [
    {
     "data": {
      "text/plain": [
       "['OFFWHITE',\n",
       " 'WHITE',\n",
       " 'Female',\n",
       " 'Adult',\n",
       " 'SHE',\n",
       " 'K-CIRCULAR',\n",
       " 'Tops',\n",
       " 'Tops',\n",
       " 'Tops',\n",
       " 'Top']"
      ]
     },
     "execution_count": 130,
     "metadata": {},
     "output_type": "execute_result"
    }
   ],
   "source": [
    "#Returns the parameters given a clothe code (string)\n",
    "def codeToProduct (code):\n",
    "    found = False\n",
    "    index = 0\n",
    "    while (not found and index<len(MyProductData)):\n",
    "        #print(MyProductData.loc[index, 'des_filename'])\n",
    "        if code.replace(\"-\",\"_\") in MyProductData.loc[index, 'des_filename']:\n",
    "            found= True\n",
    "            return [MyProductData.loc[index, 'des_color_specification_esp'],\n",
    "                MyProductData.loc[index, 'des_agrup_color_eng'],\n",
    "                MyProductData.loc[index, 'des_sex'],\n",
    "                MyProductData.loc[index, 'des_age'],\n",
    "                MyProductData.loc[index, 'des_line'],\n",
    "                MyProductData.loc[index, 'des_fabric'],\n",
    "                MyProductData.loc[index, 'des_product_category'],\n",
    "                MyProductData.loc[index, 'des_product_aggregated_family'],\n",
    "                MyProductData.loc[index, 'des_product_family'],\n",
    "                MyProductData.loc[index, 'des_product_type']]\n",
    "        index+=1\n",
    "    return [-1]\n",
    "\n",
    "codeToProduct(\"51000622-02\")"
   ]
  },
  {
   "cell_type": "code",
   "execution_count": 131,
   "metadata": {},
   "outputs": [
    {
     "data": {
      "text/plain": [
       "[68, 0, 0, 0, 3, 6, 6, 11, 30, 106]"
      ]
     },
     "execution_count": 131,
     "metadata": {},
     "output_type": "execute_result"
    }
   ],
   "source": [
    "def productToDiscreteBox(a):\n",
    "    #print(a)\n",
    "    return [get_des_color_specification_esp(a[0]),\n",
    "                get_des_agrup_color_eng(a[1]),\n",
    "                get_des_sex(a[2]),\n",
    "                get_des_age(a[3]),\n",
    "                get_des_line(a[4]),\n",
    "                get_des_fabric(a[5]),\n",
    "                get_des_product_category(a[6]),\n",
    "                get_des_aggregated_family(a[7]),\n",
    "                get_des_product_family(a[8]),\n",
    "                get_des_product_type(a[9])]\n",
    "\n",
    "productToDiscreteBox(codeToProduct(\"2019_43005014_56\"))"
   ]
  },
  {
   "cell_type": "code",
   "execution_count": 132,
   "metadata": {},
   "outputs": [
    {
     "data": {
      "text/plain": [
       "1"
      ]
     },
     "execution_count": 132,
     "metadata": {},
     "output_type": "execute_result"
    }
   ],
   "source": [
    "#Returns 1 if the clothe k is in the outfit \"index\", 0 otherwise\n",
    "def isInOutfit (k, index):\n",
    "    for n in range(len(MyOutfitData)):\n",
    "        if(MyOutfitData.loc[n, 'cod_outfit']==index) and (MyOutfitData.loc[n, 'cod_modelo_color'].replace(\"-\",\"_\") in MyProductData.loc[k, 'des_filename']):\n",
    "            return 1\n",
    "    return 0\n",
    "\n",
    "isInOutfit(3142, 139)"
   ]
  },
  {
   "cell_type": "code",
   "execution_count": 134,
   "metadata": {},
   "outputs": [
    {
     "name": "stdout",
     "output_type": "stream",
     "text": [
      "1\n",
      "1\n",
      "1\n",
      "1\n",
      "1\n",
      "1\n",
      "1\n",
      "1\n",
      "1\n",
      "1\n",
      "1\n",
      "1\n",
      "1\n",
      "1\n",
      "1\n",
      "1\n",
      "1\n",
      "1\n",
      "1\n",
      "1\n",
      "1\n",
      "1\n",
      "1\n",
      "1\n",
      "1\n",
      "1\n",
      "1\n",
      "1\n",
      "1\n",
      "1\n",
      "1\n",
      "1\n",
      "1\n",
      "1\n",
      "1\n",
      "1\n",
      "1\n",
      "1\n",
      "1\n",
      "1\n",
      "1\n",
      "1\n",
      "1\n",
      "1\n",
      "1\n",
      "1\n",
      "1\n",
      "1\n",
      "1\n",
      "1\n",
      "1\n",
      "1\n",
      "1\n",
      "1\n",
      "1\n",
      "1\n",
      "1\n",
      "1\n",
      "1\n",
      "1\n",
      "1\n",
      "1\n",
      "1\n",
      "1\n",
      "1\n",
      "1\n",
      "1\n",
      "1\n",
      "1\n",
      "1\n",
      "1\n",
      "1\n",
      "1\n",
      "1\n",
      "1\n",
      "1\n",
      "1\n",
      "1\n",
      "Unexpected exception formatting exception. Falling back to standard exception\n"
     ]
    },
    {
     "name": "stderr",
     "output_type": "stream",
     "text": [
      "Traceback (most recent call last):\n",
      "  File \"/Users/psabnac/Library/Python/3.9/lib/python/site-packages/IPython/core/interactiveshell.py\", line 3548, in run_code\n",
      "    exec(code_obj, self.user_global_ns, self.user_ns)\n",
      "  File \"/var/folders/z_/1hx_lgfj4x933xjbtg5724xm0000gn/T/ipykernel_17642/3516774205.py\", line 10, in <module>\n",
      "    outfitToBox(129)\n",
      "  File \"/var/folders/z_/1hx_lgfj4x933xjbtg5724xm0000gn/T/ipykernel_17642/3516774205.py\", line 6, in outfitToBox\n",
      "    if(MyOutfitData.loc[n, 'cod_outfit']==outfit_index) and (MyOutfitData.loc[n, 'cod_modelo_color'].replace(\"-\",\"_\") in MyProductData.loc[k, 'des_filename']):\n",
      "  File \"/Users/psabnac/Library/Python/3.9/lib/python/site-packages/pandas/core/indexing.py\", line 1145, in __getitem__\n",
      "    if self._is_scalar_access(key):\n",
      "  File \"/Users/psabnac/Library/Python/3.9/lib/python/site-packages/pandas/core/indexing.py\", line 1223, in _is_scalar_access\n",
      "    if len(key) != self.ndim:\n",
      "  File \"indexing.pyx\", line 23, in pandas._libs.indexing.NDFrameIndexerBase.ndim.__get__\n",
      "  File \"/Users/psabnac/Library/Python/3.9/lib/python/site-packages/pandas/core/generic.py\", line 681, in ndim\n",
      "    return self._mgr.ndim\n",
      "KeyboardInterrupt\n",
      "\n",
      "During handling of the above exception, another exception occurred:\n",
      "\n",
      "Traceback (most recent call last):\n",
      "  File \"/Users/psabnac/Library/Python/3.9/lib/python/site-packages/IPython/core/interactiveshell.py\", line 2142, in showtraceback\n",
      "    stb = self.InteractiveTB.structured_traceback(\n",
      "  File \"/Users/psabnac/Library/Python/3.9/lib/python/site-packages/IPython/core/ultratb.py\", line 1435, in structured_traceback\n",
      "    return FormattedTB.structured_traceback(\n",
      "  File \"/Users/psabnac/Library/Python/3.9/lib/python/site-packages/IPython/core/ultratb.py\", line 1326, in structured_traceback\n",
      "    return VerboseTB.structured_traceback(\n",
      "  File \"/Users/psabnac/Library/Python/3.9/lib/python/site-packages/IPython/core/ultratb.py\", line 1173, in structured_traceback\n",
      "    formatted_exception = self.format_exception_as_a_whole(etype, evalue, etb, number_of_lines_of_context,\n",
      "  File \"/Users/psabnac/Library/Python/3.9/lib/python/site-packages/IPython/core/ultratb.py\", line 1063, in format_exception_as_a_whole\n",
      "    self.get_records(etb, number_of_lines_of_context, tb_offset) if etb else []\n",
      "  File \"/Users/psabnac/Library/Python/3.9/lib/python/site-packages/IPython/core/ultratb.py\", line 1155, in get_records\n",
      "    FrameInfo(\n",
      "  File \"/Users/psabnac/Library/Python/3.9/lib/python/site-packages/IPython/core/ultratb.py\", line 780, in __init__\n",
      "    ix = inspect.getsourcelines(frame)\n",
      "  File \"/Library/Developer/CommandLineTools/Library/Frameworks/Python3.framework/Versions/3.9/lib/python3.9/inspect.py\", line 1006, in getsourcelines\n",
      "    lines, lnum = findsource(object)\n",
      "  File \"/Library/Developer/CommandLineTools/Library/Frameworks/Python3.framework/Versions/3.9/lib/python3.9/inspect.py\", line 827, in findsource\n",
      "    raise OSError('source code not available')\n",
      "OSError: source code not available\n"
     ]
    }
   ],
   "source": [
    "def outfitToBox(outfit_index):\n",
    "    a = np.zeros(len(MyProductData))\n",
    "    for k in range(len(MyProductData)):\n",
    "        print(1)\n",
    "        for n in range(len(MyOutfitData)):\n",
    "            if(MyOutfitData.loc[n, 'cod_outfit']==outfit_index) and (MyOutfitData.loc[n, 'cod_modelo_color'].replace(\"-\",\"_\") in MyProductData.loc[k, 'des_filename']):\n",
    "                a[k]=1\n",
    "    return a\n",
    "\n",
    "outfitToBox(129)"
   ]
  },
  {
   "cell_type": "code",
   "execution_count": 138,
   "metadata": {},
   "outputs": [],
   "source": [
    "#\n",
    "def preprocessingData():\n",
    "    Y = np.zeros(7842,len(MyProductData)))\n",
    "    for index in range(len(MyOutfitData)):\n",
    "        #print(1)\n",
    "        cod_outfit = MyOutfitData.loc[index, 'cod_outfit'] # Accede a los valores de cada columna\n",
    "        cod_modelo_color = MyOutfitData.loc[index, 'cod_modelo_color']\n",
    "        #print(cod_modelo_color)\n",
    "        X[index] = productToDiscreteBox(codeToProduct(cod_modelo_color))\n",
    "        for k in range (len(MyProductData)):\n",
    "            if(MyOutfitData.loc[k, 'cod_modelo_color'] in MyProductData.loc[k, 'des_filename']):\n",
    "                Y[MyOutfitData.loc[index, 'cod_outfit']][k] = 1\n",
    "            else:\n",
    "                Y[MyOutfitData.loc[index, 'cod_outfit']][k] = 0\n",
    "        "
   ]
  },
  {
   "cell_type": "code",
   "execution_count": 136,
   "metadata": {},
   "outputs": [],
   "source": [
    "X = np.zeros((len(MyOutfitData),10))\n",
    "Y = np.zeros(len(MyOutfitData))"
   ]
  },
  {
   "cell_type": "code",
   "execution_count": 140,
   "metadata": {},
   "outputs": [],
   "source": [
    "#preprocessingData()"
   ]
  },
  {
   "cell_type": "code",
   "execution_count": null,
   "metadata": {},
   "outputs": [],
   "source": [
    "#CALCULATING ACCURACY: Separation: training(70-80%), testing(20-30%)\n",
    "from sklearn.tree import DecisionTreeClassifier\n",
    "model = DecisionTreeClassifier()\n",
    "\n",
    "from sklearn.model_selection import train_test_split\n",
    "X_train, X_test, y_train, y_test=train_test_split(X,y, test_size=0.2)#Randomly selects 20%"
   ]
  },
  {
   "cell_type": "code",
   "execution_count": null,
   "metadata": {},
   "outputs": [],
   "source": [
    "#training\n",
    "model.fit(X_train, y_train)\n",
    "predictions = model.predict(X_test)"
   ]
  },
  {
   "cell_type": "code",
   "execution_count": null,
   "metadata": {},
   "outputs": [],
   "source": [
    "\n",
    "from sklearn.metrics import accuracy_score\n",
    "score = accuracy_score(y_test, predictions)\n",
    "score\n",
    "\n",
    "#Trick: press cmd+enter to be able to run faster several times"
   ]
  },
  {
   "cell_type": "code",
   "execution_count": null,
   "metadata": {},
   "outputs": [],
   "source": [
    "\n",
    "predictions = model.predict([[21,1],[22,0]])"
   ]
  },
  {
   "cell_type": "code",
   "execution_count": null,
   "metadata": {},
   "outputs": [],
   "source": [
    "#Using a model without training it:\n",
    "#Download the trained model: DO ONLY ONCE!!\n",
    "from sklearn.externals import joblib\n",
    "joblib.dum(model, 'fashion_compatibility.jotlib')#Will download model at the path where this file is"
   ]
  },
  {
   "cell_type": "code",
   "execution_count": null,
   "metadata": {},
   "outputs": [],
   "source": [
    "#load and run model:\n",
    "model = joblib.load('fashion_compatibility.jotlib')\n",
    "predictions = model.predict([[21,1]])\n",
    "predictions"
   ]
  },
  {
   "cell_type": "code",
   "execution_count": null,
   "metadata": {},
   "outputs": [],
   "source": [
    "#Export model in a visual format\n",
    "from sklearn import tree\n",
    "tree.export_graphviz(\n",
    "    model, out_file='fashion_compatibility.dot',\n",
    "    #feature_names=['age', 'gender'],\n",
    "    class_names=sorted(y.unique()),\n",
    "    label='all', #Displays parameters\n",
    "    rounded=True, #Node rounded corners\n",
    "    filled = True #Coloured nodes\n",
    ") #graph description language\n",
    "#Visualize at https://dreampuf.github.io/GraphvizOnline/"
   ]
  },
  {
   "cell_type": "markdown",
   "metadata": {},
   "source": [
    "RANDOM FOREST IMPLEMENTATION %https://www.analyticsvidhya.com/blog/2021/06/understanding-random-forest/"
   ]
  },
  {
   "cell_type": "code",
   "execution_count": null,
   "metadata": {},
   "outputs": [],
   "source": [
    "import matplotlib.pyplot as plt, seaborn as sns\n",
    "%matplotlib inline"
   ]
  },
  {
   "cell_type": "code",
   "execution_count": null,
   "metadata": {},
   "outputs": [],
   "source": [
    "# Putting feature variable to X\n",
    "X = df.drop('heart disease',axis=1)\n",
    "# Putting response variable to y\n",
    "y = df['heart disease']"
   ]
  },
  {
   "cell_type": "code",
   "execution_count": null,
   "metadata": {},
   "outputs": [],
   "source": [
    "# now lets split the data into train and test\n",
    "from sklearn.model_selection import train_test_split\n",
    "\n",
    "# Splitting the data into train and test\n",
    "X_train, X_test, y_train, y_test = train_test_split(X, y, train_size=0.7, random_state=42)\n",
    "X_train.shape, X_test.shape"
   ]
  },
  {
   "cell_type": "code",
   "execution_count": null,
   "metadata": {},
   "outputs": [],
   "source": [
    "from sklearn.ensemble import RandomForestClassifier\n",
    "\n",
    "classifier_rf = RandomForestClassifier(random_state=42, n_jobs=-1, max_depth=5,\n",
    "                                       n_estimators=100, oob_score=True)\n",
    "\n",
    "%%time\n",
    "classifier_rf.fit(X_train, y_train)"
   ]
  },
  {
   "cell_type": "code",
   "execution_count": null,
   "metadata": {},
   "outputs": [],
   "source": [
    "# checking the oob score\n",
    "classifier_rf.oob_score_"
   ]
  },
  {
   "cell_type": "code",
   "execution_count": null,
   "metadata": {},
   "outputs": [],
   "source": [
    "#Hyperparameter tunning\n",
    "rf = RandomForestClassifier(random_state=42, n_jobs=-1)\n",
    "\n",
    "params = {\n",
    "    'max_depth': [2,3,5,10,20],\n",
    "    'min_samples_leaf': [5,10,20,50,100,200],\n",
    "    'n_estimators': [10,25,30,50,100,200]\n",
    "}\n",
    "\n",
    "from sklearn.model_selection import GridSearchCV\n",
    "\n",
    "# Instantiate the grid search model\n",
    "grid_search = GridSearchCV(estimator=rf,\n",
    "                           param_grid=params,\n",
    "                           cv = 4,\n",
    "                           n_jobs=-1, verbose=1, scoring=\"accuracy\")\n",
    "\n",
    "%%time\n",
    "grid_search.fit(X_train, y_train)"
   ]
  },
  {
   "cell_type": "code",
   "execution_count": null,
   "metadata": {},
   "outputs": [],
   "source": [
    "grid_search.best_score_"
   ]
  },
  {
   "cell_type": "code",
   "execution_count": null,
   "metadata": {},
   "outputs": [],
   "source": [
    "rf_best = grid_search.best_estimator_\n",
    "rf_best #From hyperparameter tuning, we can fetch the best estimator, as shown. The best set of parameters identified was max_depth=5, min_samples_leaf=10,n_estimators=10"
   ]
  },
  {
   "cell_type": "code",
   "execution_count": null,
   "metadata": {},
   "outputs": [],
   "source": [
    "from sklearn.tree import plot_tree\n",
    "plt.figure(figsize=(80,40))\n",
    "plot_tree(rf_best.estimators_[5], feature_names = X.columns,class_names=['Disease', \"No Disease\"],filled=True);"
   ]
  },
  {
   "cell_type": "code",
   "execution_count": null,
   "metadata": {},
   "outputs": [],
   "source": [
    "from sklearn.tree import plot_tree\n",
    "plt.figure(figsize=(80,40))\n",
    "plot_tree(rf_best.estimators_[7], feature_names = X.columns,class_names=['Disease', \"No Disease\"],filled=True);\n"
   ]
  },
  {
   "cell_type": "markdown",
   "metadata": {},
   "source": [
    "sort the data with the help of feature importance"
   ]
  },
  {
   "cell_type": "code",
   "execution_count": null,
   "metadata": {},
   "outputs": [],
   "source": [
    "rf_best.feature_importances_"
   ]
  },
  {
   "cell_type": "code",
   "execution_count": null,
   "metadata": {},
   "outputs": [],
   "source": [
    "imp_df = pd.DataFrame({\n",
    "    \"Varname\": X_train.columns,\n",
    "    \"Imp\": rf_best.feature_importances_\n",
    "})\n",
    "\n",
    "imp_df.sort_values(by=\"Imp\", ascending=False)"
   ]
  }
 ],
 "metadata": {
  "kernelspec": {
   "display_name": "Python 3",
   "language": "python",
   "name": "python3"
  },
  "language_info": {
   "codemirror_mode": {
    "name": "ipython",
    "version": 3
   },
   "file_extension": ".py",
   "mimetype": "text/x-python",
   "name": "python",
   "nbconvert_exporter": "python",
   "pygments_lexer": "ipython3",
   "version": "3.9.6"
  }
 },
 "nbformat": 4,
 "nbformat_minor": 2
}
