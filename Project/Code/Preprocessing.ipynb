{
 "cells": [
  {
   "cell_type": "code",
   "execution_count": 4,
   "metadata": {},
   "outputs": [],
   "source": [
    "import pandas as pd\n",
    "import numpy as np"
   ]
  },
  {
   "cell_type": "code",
   "execution_count": 17,
   "metadata": {},
   "outputs": [
    {
     "data": {
      "text/html": [
       "<div>\n",
       "<style scoped>\n",
       "    .dataframe tbody tr th:only-of-type {\n",
       "        vertical-align: middle;\n",
       "    }\n",
       "\n",
       "    .dataframe tbody tr th {\n",
       "        vertical-align: top;\n",
       "    }\n",
       "\n",
       "    .dataframe thead th {\n",
       "        text-align: right;\n",
       "    }\n",
       "</style>\n",
       "<table border=\"1\" class=\"dataframe\">\n",
       "  <thead>\n",
       "    <tr style=\"text-align: right;\">\n",
       "      <th></th>\n",
       "      <th>cod_modelo_color</th>\n",
       "      <th>cod_color_code</th>\n",
       "      <th>des_color_specification_esp</th>\n",
       "      <th>des_agrup_color_eng</th>\n",
       "      <th>des_sex</th>\n",
       "      <th>des_age</th>\n",
       "      <th>des_line</th>\n",
       "      <th>des_fabric</th>\n",
       "      <th>des_product_category</th>\n",
       "      <th>des_product_aggregated_family</th>\n",
       "      <th>des_product_family</th>\n",
       "      <th>des_product_type</th>\n",
       "      <th>des_filename</th>\n",
       "    </tr>\n",
       "  </thead>\n",
       "  <tbody>\n",
       "    <tr>\n",
       "      <th>0</th>\n",
       "      <td>41085800-02</td>\n",
       "      <td>02</td>\n",
       "      <td>OFFWHITE</td>\n",
       "      <td>WHITE</td>\n",
       "      <td>Female</td>\n",
       "      <td>Adult</td>\n",
       "      <td>SHE</td>\n",
       "      <td>P-PLANA</td>\n",
       "      <td>Bottoms</td>\n",
       "      <td>Trousers &amp; leggings</td>\n",
       "      <td>Trousers</td>\n",
       "      <td>Trousers</td>\n",
       "      <td>datathon/images/2019_41085800_02.jpg</td>\n",
       "    </tr>\n",
       "    <tr>\n",
       "      <th>1</th>\n",
       "      <td>53000586-TO</td>\n",
       "      <td>TO</td>\n",
       "      <td>TEJANO OSCURO</td>\n",
       "      <td>BLUE</td>\n",
       "      <td>Female</td>\n",
       "      <td>Adult</td>\n",
       "      <td>SHE</td>\n",
       "      <td>J-JEANS</td>\n",
       "      <td>Bottoms</td>\n",
       "      <td>Jeans</td>\n",
       "      <td>Jeans</td>\n",
       "      <td>Jeans</td>\n",
       "      <td>datathon/images/2019_53000586_TO.jpg</td>\n",
       "    </tr>\n",
       "    <tr>\n",
       "      <th>2</th>\n",
       "      <td>53030601-81</td>\n",
       "      <td>81</td>\n",
       "      <td>ROSA PASTEL</td>\n",
       "      <td>PINK</td>\n",
       "      <td>Female</td>\n",
       "      <td>Adult</td>\n",
       "      <td>SHE</td>\n",
       "      <td>P-PLANA</td>\n",
       "      <td>Dresses, jumpsuits and Complete set</td>\n",
       "      <td>Dresses and jumpsuits</td>\n",
       "      <td>Dresses</td>\n",
       "      <td>Dress</td>\n",
       "      <td>datathon/images/2019_53030601_81.jpg</td>\n",
       "    </tr>\n",
       "    <tr>\n",
       "      <th>3</th>\n",
       "      <td>53050730-15</td>\n",
       "      <td>15</td>\n",
       "      <td>MOSTAZA</td>\n",
       "      <td>YELLOW</td>\n",
       "      <td>Female</td>\n",
       "      <td>Adult</td>\n",
       "      <td>SHE</td>\n",
       "      <td>P-PLANA</td>\n",
       "      <td>Dresses, jumpsuits and Complete set</td>\n",
       "      <td>Dresses and jumpsuits</td>\n",
       "      <td>Dresses</td>\n",
       "      <td>Dress</td>\n",
       "      <td>datathon/images/2019_53050730_15.jpg</td>\n",
       "    </tr>\n",
       "    <tr>\n",
       "      <th>4</th>\n",
       "      <td>53070773-70</td>\n",
       "      <td>70</td>\n",
       "      <td>ROJO</td>\n",
       "      <td>RED</td>\n",
       "      <td>Female</td>\n",
       "      <td>Adult</td>\n",
       "      <td>SHE</td>\n",
       "      <td>P-PLANA</td>\n",
       "      <td>Tops</td>\n",
       "      <td>Shirts</td>\n",
       "      <td>Shirt</td>\n",
       "      <td>Shirt</td>\n",
       "      <td>datathon/images/2019_53070773_70.jpg</td>\n",
       "    </tr>\n",
       "  </tbody>\n",
       "</table>\n",
       "</div>"
      ],
      "text/plain": [
       "  cod_modelo_color cod_color_code des_color_specification_esp  \\\n",
       "0      41085800-02             02                    OFFWHITE   \n",
       "1      53000586-TO             TO               TEJANO OSCURO   \n",
       "2      53030601-81             81                 ROSA PASTEL   \n",
       "3      53050730-15             15                     MOSTAZA   \n",
       "4      53070773-70             70                        ROJO   \n",
       "\n",
       "  des_agrup_color_eng des_sex des_age des_line des_fabric  \\\n",
       "0               WHITE  Female   Adult      SHE    P-PLANA   \n",
       "1                BLUE  Female   Adult      SHE    J-JEANS   \n",
       "2                PINK  Female   Adult      SHE    P-PLANA   \n",
       "3              YELLOW  Female   Adult      SHE    P-PLANA   \n",
       "4                 RED  Female   Adult      SHE    P-PLANA   \n",
       "\n",
       "                  des_product_category des_product_aggregated_family  \\\n",
       "0                              Bottoms           Trousers & leggings   \n",
       "1                              Bottoms                         Jeans   \n",
       "2  Dresses, jumpsuits and Complete set         Dresses and jumpsuits   \n",
       "3  Dresses, jumpsuits and Complete set         Dresses and jumpsuits   \n",
       "4                                 Tops                        Shirts   \n",
       "\n",
       "  des_product_family des_product_type                          des_filename  \n",
       "0           Trousers         Trousers  datathon/images/2019_41085800_02.jpg  \n",
       "1              Jeans            Jeans  datathon/images/2019_53000586_TO.jpg  \n",
       "2            Dresses            Dress  datathon/images/2019_53030601_81.jpg  \n",
       "3            Dresses            Dress  datathon/images/2019_53050730_15.jpg  \n",
       "4              Shirt            Shirt  datathon/images/2019_53070773_70.jpg  "
      ]
     },
     "execution_count": 17,
     "metadata": {},
     "output_type": "execute_result"
    }
   ],
   "source": [
    "MyOutfitData = pd.read_csv(\"../../datathon-2023-fashion-compatibility-main/datathon/dataset/outfit_data.csv\")\n",
    "MyProductData = pd.read_csv(\"../../datathon-2023-fashion-compatibility-main/datathon/dataset/product_data.csv\")\n",
    "MyProductData.head()"
   ]
  },
  {
   "cell_type": "code",
   "execution_count": 33,
   "metadata": {},
   "outputs": [
    {
     "name": "stdout",
     "output_type": "stream",
     "text": [
      "2415\n"
     ]
    }
   ],
   "source": [
    "X = np.zeros(len(MyOutfitData))\n",
    "Y = np.zeros(len(MyOutfitData))\n",
    "print(MyOutfitData.loc[7235, 'cod_outfit'])"
   ]
  },
  {
   "cell_type": "code",
   "execution_count": 40,
   "metadata": {},
   "outputs": [],
   "source": [
    "des_color_specification_esp = [\"AGUA\",\"AMARILLO\",\"AMARILLO FLUOR\",\"AMARILLO PASTEL\",\"ANTRACITA\",\"ARENA\",\"ASFALTO\",\"AZUL\",\"AZUL NOCHE\",\"BEIGE\",\"BERMELLON\",\"BILLAR\",\"BLANCO\",\"BLEACH\",\"BLOOD\",\"BLUEBLACK\",\"BOTELLA\",\"BURDEOS\",\"CALDERO\",\"CAMEL\",\"CANELA\",\"CARAMELO\",\"CAZA\",\"CELESTE\",\"CENIZA\",\"CEREZA\",\"CHICLE\",\"CHOCOLATE\",\"CIRUELA\",\"COBRE\",\"COFFEE\",\"COGNAC\",\"CORAL\",\"CRUDO\",\"CUERO\",\"CURRY\",\"DIRTY\",\"DIRTY CLARO\",\"DIRTY OSCURO\",\"ELECTRICO\",\"ESMERALDA\",\"FRESA\",\"FUCSIA\",\"GERANIO\",\"GRANATE\",\"GRIS\",\"GRIS CLARO VIGORE\",\"GRIS MEDIO VIGORE\",\"GRIS OSCURO VIGORE\",\"GUNMETAL\",\"HIELO\",\"INDIGO\",\"KHAKI\",\"LILA\",\"LIMA\",\"MALVA\",\"MANDARINA\",\"MANZANA\",\"MARFIL\",\"MARINO\",\"MARRON\",\"MENTA\",\"MISTERIO\",\"MORADO\",\"MOSTAZA\",\"MUSGO\",\"NARANJA\",\"NARANJA PASTEL\",\"NAVY\",\"NEGRO\",\"NUDE\",\"OCRE\",\"OFFWHITE\",\"OLIVA\",\"ORO\",\"PEACH\",\"PERLA\",\"PETROLEO\",\"PIEDRA\",\"PIMENTON\",\"PLATA\",\"PORCELANA\",\"PRUSIA\",\"ROJO\",\"ROSA\",\"ROSA FLUOR\",\"ROSA LIGHT\",\"ROSA PALO\",\"ROSA PASTEL\",\"SALMON\",\"TABACO\",\"TAUPE\",\"TEJANO CLARO\",\"TEJANO GRIS\",\"TEJANO GRIS CLARO\",\"TEJANO GRIS OSCURO\",\"TEJANO MEDIO\",\"TEJANO NEGRO\",\"TEJANO OSCURO\",\"TEJANO SOFT\",\"TERRACOTA\",\"TINTA\",\"TOPO\",\"TURQUESA\",\"VAINILLA\",\"VERDE\",\"VERDE PASTEL\",\"VINO\",\"VIOLETA\",\"VISON\"]\n",
    "\n",
    "des_agrup_color_eng = [\"BLUE\",\"BROWN\",\"GREEN\",\"GREY\",\"ORANGE\",\"PINK\",\"PURPLE\",\"RED\",\"WHITE\",\"YELLOW\"]\n",
    "\n",
    "des_sex = [\"Female\",\"Male\",\"Unisex\"]\n",
    "\n",
    "des_age = [\"Adult\",\"Kids\"]\n",
    "\n",
    "des_line = [\"HE\",\"HOME\",\"KIDS\",\"SHE\",\"VIOLETA\"]\n",
    "\n",
    "des_fabric = [\"C-COMPLEMENTOS\",\"J-JEANS\",\"K-CIRCULAR\",\"L-PIEL\",\"O-POLIPIEL\",\"P-PLANA\",\"T-TRICOT\"]\n",
    "\n",
    "des_product_category = [\"Accesories, Swim and Intimate\",\"Beauty\",\"Bottoms\",\"Dresses, jumpsuits and Complete set\",\"Home\",\"Outerwear\",\"Tops\"]\n",
    "\n",
    "des_product_aggregated_family = [\"Accessories\",\"Bedroom\",\"Coats and Parkas\",\"Decor\",\"Dinning Room\",\"Dresses and jumpsuits\",\"Fragance\",\"Jackets and Blazers\",\"Jeans\",\"Shirts\",\"Skirts and shorts\",\"Sweaters and Cardigans\",\"Swim and intimate\",\"T-shirts\",\"Tops\",\"Trousers & leggings\"]\n",
    "\n",
    "des_product_family = [\"Bags\",\"Bedding\",\"Belts and Ties\",\"Blazers\",\"Bodysuits\",\"Cardigans\",\"Coats\",\"Deco Accessories\",\"Deco Textiles\",\"Dresses\",\"Footwear\",\"Fragances\",\"Gadgets\",\"Glasses\",\"Glassware\",\"Hats, scarves and gloves\",\"Intimate\",\"Jackets\",\"Jeans\",\"Jewellery\",\"Jumpsuit\",\"Leather jackets\",\"Leggings and joggers\",\"Outer Vest\",\"Parkas\",\"Poloshirts\",\"Puffer coats\",\"Shirt\",\"Shorts\",\"Skirts\",\"Sweater\",\"Sweatshirts\",\"Swimwear\",\"T-shirt\",\"Tops\",\"Trenchcoats\",\"Trousers\",\"Vest\",\"Wallets & cases\"]\n",
    "\n",
    "des_product_type = [\"Ankle Boots\",\"Backpack\",\"Basket\",\"Beach Towel\",\"Beanie\",\"Bed Cushion Case\",\"Bedspread\",\"Belt\",\"Belt bag\",\"Bermudas\",\"Bikini pantie\",\"Bikini top\",\"Blazer\",\"Blouse\",\"Bodymist\",\"Bodysuit\",\"Boots\",\"Box\",\"Bracelet\",\"Braces\",\"Bras\",\"Bucket bag\",\"Candle\",\"Candle Holder\",\"Cap\",\"Cape\",\"Card holder\",\"Cardigan\",\"Cardigan Vest\",\"Carpet Yarn\",\"Case\",\"Citybag\",\"Clogs\",\"Clutch and Pochettes\",\"Coat\",\"Cosmetic bag\",\"Crossbody bag\",\"Curtain\",\"Cushion Case\",\"Dress\",\"Dressing Gown (Bata)\",\"Duvet Covers\",\"Earrings\",\"Foulard\",\"Fragance\",\"Gadget\",\"Glasses\",\"Glasses case\",\"Gloves\",\"Hairband\",\"Hairclip\",\"Handbag\",\"Hat\",\"Headband\",\"Home Spray\",\"Jacket\",\"Jacket (Cazadora)\",\"Jeans\",\"Joggers\",\"Jug\",\"Jumpsuit\",\"Kaftan\",\"Kerchief\",\"Keyring\",\"Knicker\",\"Leather Jacket\",\"Leggings\",\"Mini Bag\",\"Necklace\",\"Nightgown\",\"Organiser\",\"Outer vest\",\"Overall\",\"Overshirt\",\"Parka\",\"Pichi\",\"Pillow Case\",\"Plaid\",\"Poloshirt\",\"Poncho\",\"Puffer coat\",\"Purse\",\"Pyjama\",\"Pyjama Cardigan\",\"Pyjama Shirt\",\"Pyjama Shorts\",\"Pyjama Sweatshirt\",\"Pyjama T-Shirt\",\"Pyjama Top\",\"Pyjama Trousers\",\"Pyjiama Sweater\",\"Quilt\",\"Ring\",\"Sandals\",\"Scarf\",\"Shape\",\"Shirt\",\"Shoes\",\"Shorts\",\"Shoulder bag\",\"Skirt\",\"Skort\",\"Slippers\",\"Sock (Pack)\",\"Socks\",\"Sunglasses\",\"Sweater\",\"Sweater Vest\",\"Sweatshirt\",\"Swimsuit\",\"T-Shirt\",\"Tie\",\"Tights\",\"Top\",\"Totes bag\",\"Trainers\",\"Trenchcoat\",\"Trousers\",\"Tumblers\",\"Turban\",\"Umbrella\",\"Vest\",\"Wallet\"]"
   ]
  },
  {
   "cell_type": "code",
   "execution_count": 35,
   "metadata": {},
   "outputs": [],
   "source": [
    "def get_des_color_specification_esp(color):\n",
    "    if color in des_color_specification_esp:    # Check if the input color is valid\n",
    "        return des_color_specification_esp.index(color) # Return the position of the color in the list (0-based index)\n",
    "    else:\n",
    "        return null  # Return null for an invalid color\n",
    "\n",
    "\n",
    "def get_des_agrup_color_eng(color2):\n",
    "    if color2 in des_agrup_color_eng:   # Check if the input color2 is valid\n",
    "        return des_agrup_color_eng.index(color2)# Return the position of the color2 in the list (0-based index)\n",
    "    else:\n",
    "        return null  # Return null for an invalid color2\n",
    "\n",
    "\n",
    "def get_des_sex(sex):\n",
    "    if sex in des_sex:# Check if the input sex is valid\n",
    "        return des_sex.index(sex)# Return the position of the sex in the list (0-based index)\n",
    "    else:\n",
    "        return null  # Return null for an invalid sex\n",
    "\n",
    "\n",
    "def get_des_age(age):\n",
    "    if age in des_age:# Check if the input age is valid\n",
    "        return des_age.index(age)# Return the position of the age in the list (0-based index)\n",
    "    else:\n",
    "        return null  # Return null for an invalid age\n",
    "\n",
    "\n",
    "def get_des_line(line):\n",
    "    if line in des_line:    # Check if the input line is valid\n",
    "        return des_line.index(line) # Return the position of the line in the list (0-based index)\n",
    "    else:\n",
    "        return null  # Return null for an invalid line\n",
    "\n",
    "\n",
    "def get_des_fabric(fabric):\n",
    "    if fabric in des_fabric:# Check if the input fabric is valid\n",
    "        return des_fabric.index(fabric)# Return the position of the fabric in the list (0-based index)\n",
    "    else:\n",
    "        return null  # Return null for an invalid fabric\n",
    "\n",
    "\n",
    "def get_des_product_category(category):\n",
    "    if category in des_product_category:# Check if the input category is valid\n",
    "        return des_product_category.index(category)# Return the position of the category in the list (0-based index)\n",
    "    else:\n",
    "        return null  # Return null for an invalid category\n",
    "\n",
    "\n",
    "def get_des_aggregated_family(ag_f):\n",
    "    if ag_f in des_product_aggregated_family:# Check if the input ag_f is valid\n",
    "        return des_product_aggregated_family.index(ag_f)# Return the position of the ag_f in the list (0-based index)\n",
    "    else:\n",
    "        return null  # Return null for an invalid ag_f\n",
    "\n",
    "\n",
    "def get_des_product_family(family):\n",
    "    if family in des_product_family: # Check if the input family is valid\n",
    "        return des_product_family.index(family)# Return the position of the family in the list (0-based index)\n",
    "    else:\n",
    "        return null  # Return null for an invalid family\n",
    "\n",
    "\n",
    "def get_des_product_type(type):\n",
    "    if type in des_product_type:# Check if the input type is valid\n",
    "        return des_product_type.index(type)# Return the position of the type in the list (0-based index)\n",
    "    else:\n",
    "        return null  # Return null for an invalid type"
   ]
  },
  {
   "cell_type": "code",
   "execution_count": 37,
   "metadata": {},
   "outputs": [
    {
     "data": {
      "text/plain": [
       "['NAVY',\n",
       " 'BLUE',\n",
       " 'Female',\n",
       " 'Adult',\n",
       " 'SHE',\n",
       " 'T-TRICOT',\n",
       " 'Tops',\n",
       " 'Sweaters and Cardigans',\n",
       " 'Sweater',\n",
       " 'Sweater']"
      ]
     },
     "execution_count": 37,
     "metadata": {},
     "output_type": "execute_result"
    }
   ],
   "source": [
    "#Returns the parameters given a clothe code (string)\n",
    "def codeToProduct (code):\n",
    "    found = False\n",
    "    index = 0\n",
    "    while (not found and index<len(MyProductData)):\n",
    "        if code in MyProductData.loc[index, 'des_filename']:\n",
    "            found= True\n",
    "            return [MyProductData.loc[index, 'des_color_specification_esp'],\n",
    "                MyProductData.loc[index, 'des_agrup_color_eng'],\n",
    "                MyProductData.loc[index, 'des_sex'],\n",
    "                MyProductData.loc[index, 'des_age'],\n",
    "                MyProductData.loc[index, 'des_line'],\n",
    "                MyProductData.loc[index, 'des_fabric'],\n",
    "                MyProductData.loc[index, 'des_product_category'],\n",
    "                MyProductData.loc[index, 'des_product_aggregated_family'],\n",
    "                MyProductData.loc[index, 'des_product_family'],\n",
    "                MyProductData.loc[index, 'des_product_type']]\n",
    "        index+=1\n",
    "    return -1\n",
    "\n",
    "codeToProduct(\"2019_43005014_56\")"
   ]
  },
  {
   "cell_type": "code",
   "execution_count": 42,
   "metadata": {},
   "outputs": [
    {
     "data": {
      "text/plain": [
       "[68, 0, 0, 0, 3, 6, 6, 11, 30, 106]"
      ]
     },
     "execution_count": 42,
     "metadata": {},
     "output_type": "execute_result"
    }
   ],
   "source": [
    "def productToDiscreteBox(a):\n",
    "    return [get_des_color_specification_esp(a[0]),\n",
    "                get_des_agrup_color_eng(a[1]),\n",
    "                get_des_sex(a[2]),\n",
    "                get_des_age(a[3]),\n",
    "                get_des_line(a[4]),\n",
    "                get_des_fabric(a[5]),\n",
    "                get_des_product_category(a[6]),\n",
    "                get_des_aggregated_family(a[7]),\n",
    "                get_des_product_family(a[8]),\n",
    "                get_des_product_type(a[9])]\n",
    "\n",
    "productToDiscreteBox(codeToProduct(\"2019_43005014_56\"))"
   ]
  },
  {
   "cell_type": "code",
   "execution_count": 76,
   "metadata": {},
   "outputs": [
    {
     "name": "stdout",
     "output_type": "stream",
     "text": [
      "43063738-46\n",
      "datathon/images/2019_43063738_46.jpg\n"
     ]
    },
    {
     "data": {
      "text/plain": [
       "1"
      ]
     },
     "execution_count": 76,
     "metadata": {},
     "output_type": "execute_result"
    }
   ],
   "source": [
    "#Returns 1 if the clothe k is in the outfit \"index\", 0 otherwise\n",
    "def isInOutfit (k, index):\n",
    "    for n in range(len(MyOutfitData)):\n",
    "        if(MyOutfitData.loc[n, 'cod_outfit']==index) and (MyOutfitData.loc[n, 'cod_modelo_color'].replace(\"-\",\"_\") in MyProductData.loc[k, 'des_filename']):\n",
    "            return 1\n",
    "    return 0\n",
    "\n",
    "isInOutfit(3142, 139)"
   ]
  },
  {
   "cell_type": "code",
   "execution_count": 83,
   "metadata": {},
   "outputs": [
    {
     "name": "stdout",
     "output_type": "stream",
     "text": [
      "hola\n",
      "hola\n",
      "hola\n",
      "hola\n",
      "hola\n"
     ]
    },
    {
     "ename": "KeyboardInterrupt",
     "evalue": "",
     "output_type": "error",
     "traceback": [
      "\u001b[0;31m---------------------------------------------------------------------------\u001b[0m",
      "\u001b[0;31mKeyboardInterrupt\u001b[0m                         Traceback (most recent call last)",
      "\u001b[0;32m/var/folders/z_/1hx_lgfj4x933xjbtg5724xm0000gn/T/ipykernel_17642/3587000350.py\u001b[0m in \u001b[0;36m?\u001b[0;34m()\u001b[0m\n\u001b[0;32m---> 10\u001b[0;31m \u001b[0;32mdef\u001b[0m \u001b[0moutfitToBox\u001b[0m\u001b[0;34m(\u001b[0m\u001b[0moutfit_index\u001b[0m\u001b[0;34m)\u001b[0m\u001b[0;34m:\u001b[0m\u001b[0;34m\u001b[0m\u001b[0;34m\u001b[0m\u001b[0m\n\u001b[0m\u001b[1;32m     11\u001b[0m     \u001b[0ma\u001b[0m \u001b[0;34m=\u001b[0m \u001b[0mnp\u001b[0m\u001b[0;34m.\u001b[0m\u001b[0mzeros\u001b[0m\u001b[0;34m(\u001b[0m\u001b[0mlen\u001b[0m\u001b[0;34m(\u001b[0m\u001b[0mMyProductData\u001b[0m\u001b[0;34m)\u001b[0m\u001b[0;34m)\u001b[0m\u001b[0;34m\u001b[0m\u001b[0;34m\u001b[0m\u001b[0m\n\u001b[1;32m     12\u001b[0m     \u001b[0;32mfor\u001b[0m \u001b[0mk\u001b[0m \u001b[0;32min\u001b[0m \u001b[0mrange\u001b[0m\u001b[0;34m(\u001b[0m\u001b[0mlen\u001b[0m\u001b[0;34m(\u001b[0m\u001b[0mMyProductData\u001b[0m\u001b[0;34m)\u001b[0m\u001b[0;34m)\u001b[0m\u001b[0;34m:\u001b[0m\u001b[0;34m\u001b[0m\u001b[0;34m\u001b[0m\u001b[0m\n\u001b[1;32m     13\u001b[0m         \u001b[0mprint\u001b[0m\u001b[0;34m(\u001b[0m\u001b[0;34m'hola'\u001b[0m\u001b[0;34m)\u001b[0m\u001b[0;34m\u001b[0m\u001b[0;34m\u001b[0m\u001b[0m\n",
      "\u001b[0;32m/var/folders/z_/1hx_lgfj4x933xjbtg5724xm0000gn/T/ipykernel_17642/3587000350.py\u001b[0m in \u001b[0;36m?\u001b[0;34m(outfit_index)\u001b[0m\n\u001b[1;32m      2\u001b[0m     \u001b[0ma\u001b[0m \u001b[0;34m=\u001b[0m \u001b[0mnp\u001b[0m\u001b[0;34m.\u001b[0m\u001b[0mzeros\u001b[0m\u001b[0;34m(\u001b[0m\u001b[0mlen\u001b[0m\u001b[0;34m(\u001b[0m\u001b[0mMyProductData\u001b[0m\u001b[0;34m)\u001b[0m\u001b[0;34m)\u001b[0m\u001b[0;34m\u001b[0m\u001b[0;34m\u001b[0m\u001b[0m\n\u001b[1;32m      3\u001b[0m     \u001b[0;32mfor\u001b[0m \u001b[0mk\u001b[0m \u001b[0;32min\u001b[0m \u001b[0mrange\u001b[0m\u001b[0;34m(\u001b[0m\u001b[0mlen\u001b[0m\u001b[0;34m(\u001b[0m\u001b[0mMyProductData\u001b[0m\u001b[0;34m)\u001b[0m\u001b[0;34m)\u001b[0m\u001b[0;34m:\u001b[0m\u001b[0;34m\u001b[0m\u001b[0;34m\u001b[0m\u001b[0m\n\u001b[1;32m      4\u001b[0m         \u001b[0mprint\u001b[0m\u001b[0;34m(\u001b[0m\u001b[0;34m'hola'\u001b[0m\u001b[0;34m)\u001b[0m\u001b[0;34m\u001b[0m\u001b[0;34m\u001b[0m\u001b[0m\n\u001b[1;32m      5\u001b[0m         \u001b[0;32mfor\u001b[0m \u001b[0mn\u001b[0m \u001b[0;32min\u001b[0m \u001b[0mrange\u001b[0m\u001b[0;34m(\u001b[0m\u001b[0mlen\u001b[0m\u001b[0;34m(\u001b[0m\u001b[0mMyOutfitData\u001b[0m\u001b[0;34m)\u001b[0m\u001b[0;34m)\u001b[0m\u001b[0;34m:\u001b[0m\u001b[0;34m\u001b[0m\u001b[0;34m\u001b[0m\u001b[0m\n\u001b[0;32m----> 6\u001b[0;31m             \u001b[0;32mif\u001b[0m\u001b[0;34m(\u001b[0m\u001b[0mMyOutfitData\u001b[0m\u001b[0;34m.\u001b[0m\u001b[0mloc\u001b[0m\u001b[0;34m[\u001b[0m\u001b[0mn\u001b[0m\u001b[0;34m,\u001b[0m \u001b[0;34m'cod_outfit'\u001b[0m\u001b[0;34m]\u001b[0m\u001b[0;34m==\u001b[0m\u001b[0moutfit_index\u001b[0m\u001b[0;34m)\u001b[0m \u001b[0;32mand\u001b[0m \u001b[0;34m(\u001b[0m\u001b[0mMyOutfitData\u001b[0m\u001b[0;34m.\u001b[0m\u001b[0mloc\u001b[0m\u001b[0;34m[\u001b[0m\u001b[0mn\u001b[0m\u001b[0;34m,\u001b[0m \u001b[0;34m'cod_modelo_color'\u001b[0m\u001b[0;34m]\u001b[0m\u001b[0;34m.\u001b[0m\u001b[0mreplace\u001b[0m\u001b[0;34m(\u001b[0m\u001b[0;34m\"-\"\u001b[0m\u001b[0;34m,\u001b[0m\u001b[0;34m\"_\"\u001b[0m\u001b[0;34m)\u001b[0m \u001b[0;32min\u001b[0m \u001b[0mMyProductData\u001b[0m\u001b[0;34m.\u001b[0m\u001b[0mloc\u001b[0m\u001b[0;34m[\u001b[0m\u001b[0mk\u001b[0m\u001b[0;34m,\u001b[0m \u001b[0;34m'des_filename'\u001b[0m\u001b[0;34m]\u001b[0m\u001b[0;34m)\u001b[0m\u001b[0;34m:\u001b[0m\u001b[0;34m\u001b[0m\u001b[0;34m\u001b[0m\u001b[0m\n\u001b[0m\u001b[1;32m      7\u001b[0m                 \u001b[0ma\u001b[0m\u001b[0;34m[\u001b[0m\u001b[0mk\u001b[0m\u001b[0;34m]\u001b[0m\u001b[0;34m=\u001b[0m\u001b[0;32mTrue\u001b[0m\u001b[0;34m\u001b[0m\u001b[0;34m\u001b[0m\u001b[0m\n\u001b[1;32m      8\u001b[0m     \u001b[0;32mreturn\u001b[0m \u001b[0ma\u001b[0m\u001b[0;34m\u001b[0m\u001b[0;34m\u001b[0m\u001b[0m\n",
      "\u001b[0;32m~/Library/Python/3.9/lib/python/site-packages/pandas/core/indexing.py\u001b[0m in \u001b[0;36m?\u001b[0;34m(self, key)\u001b[0m\n\u001b[1;32m   1142\u001b[0m         \u001b[0;32mif\u001b[0m \u001b[0mtype\u001b[0m\u001b[0;34m(\u001b[0m\u001b[0mkey\u001b[0m\u001b[0;34m)\u001b[0m \u001b[0;32mis\u001b[0m \u001b[0mtuple\u001b[0m\u001b[0;34m:\u001b[0m\u001b[0;34m\u001b[0m\u001b[0;34m\u001b[0m\u001b[0m\n\u001b[1;32m   1143\u001b[0m             \u001b[0mkey\u001b[0m \u001b[0;34m=\u001b[0m \u001b[0mtuple\u001b[0m\u001b[0;34m(\u001b[0m\u001b[0mlist\u001b[0m\u001b[0;34m(\u001b[0m\u001b[0mx\u001b[0m\u001b[0;34m)\u001b[0m \u001b[0;32mif\u001b[0m \u001b[0mis_iterator\u001b[0m\u001b[0;34m(\u001b[0m\u001b[0mx\u001b[0m\u001b[0;34m)\u001b[0m \u001b[0;32melse\u001b[0m \u001b[0mx\u001b[0m \u001b[0;32mfor\u001b[0m \u001b[0mx\u001b[0m \u001b[0;32min\u001b[0m \u001b[0mkey\u001b[0m\u001b[0;34m)\u001b[0m\u001b[0;34m\u001b[0m\u001b[0;34m\u001b[0m\u001b[0m\n\u001b[1;32m   1144\u001b[0m             \u001b[0mkey\u001b[0m \u001b[0;34m=\u001b[0m \u001b[0mtuple\u001b[0m\u001b[0;34m(\u001b[0m\u001b[0mcom\u001b[0m\u001b[0;34m.\u001b[0m\u001b[0mapply_if_callable\u001b[0m\u001b[0;34m(\u001b[0m\u001b[0mx\u001b[0m\u001b[0;34m,\u001b[0m \u001b[0mself\u001b[0m\u001b[0;34m.\u001b[0m\u001b[0mobj\u001b[0m\u001b[0;34m)\u001b[0m \u001b[0;32mfor\u001b[0m \u001b[0mx\u001b[0m \u001b[0;32min\u001b[0m \u001b[0mkey\u001b[0m\u001b[0;34m)\u001b[0m\u001b[0;34m\u001b[0m\u001b[0;34m\u001b[0m\u001b[0m\n\u001b[1;32m   1145\u001b[0m             \u001b[0;32mif\u001b[0m \u001b[0mself\u001b[0m\u001b[0;34m.\u001b[0m\u001b[0m_is_scalar_access\u001b[0m\u001b[0;34m(\u001b[0m\u001b[0mkey\u001b[0m\u001b[0;34m)\u001b[0m\u001b[0;34m:\u001b[0m\u001b[0;34m\u001b[0m\u001b[0;34m\u001b[0m\u001b[0m\n\u001b[0;32m-> 1146\u001b[0;31m                 \u001b[0;32mreturn\u001b[0m \u001b[0mself\u001b[0m\u001b[0;34m.\u001b[0m\u001b[0mobj\u001b[0m\u001b[0;34m.\u001b[0m\u001b[0m_get_value\u001b[0m\u001b[0;34m(\u001b[0m\u001b[0;34m*\u001b[0m\u001b[0mkey\u001b[0m\u001b[0;34m,\u001b[0m \u001b[0mtakeable\u001b[0m\u001b[0;34m=\u001b[0m\u001b[0mself\u001b[0m\u001b[0;34m.\u001b[0m\u001b[0m_takeable\u001b[0m\u001b[0;34m)\u001b[0m\u001b[0;34m\u001b[0m\u001b[0;34m\u001b[0m\u001b[0m\n\u001b[0m\u001b[1;32m   1147\u001b[0m             \u001b[0;32mreturn\u001b[0m \u001b[0mself\u001b[0m\u001b[0;34m.\u001b[0m\u001b[0m_getitem_tuple\u001b[0m\u001b[0;34m(\u001b[0m\u001b[0mkey\u001b[0m\u001b[0;34m)\u001b[0m\u001b[0;34m\u001b[0m\u001b[0;34m\u001b[0m\u001b[0m\n\u001b[1;32m   1148\u001b[0m         \u001b[0;32melse\u001b[0m\u001b[0;34m:\u001b[0m\u001b[0;34m\u001b[0m\u001b[0;34m\u001b[0m\u001b[0m\n\u001b[1;32m   1149\u001b[0m             \u001b[0;31m# we by definition only have the 0th axis\u001b[0m\u001b[0;34m\u001b[0m\u001b[0;34m\u001b[0m\u001b[0;34m\u001b[0m\u001b[0m\n",
      "\u001b[0;32m~/Library/Python/3.9/lib/python/site-packages/pandas/core/frame.py\u001b[0m in \u001b[0;36m?\u001b[0;34m(self, index, col, takeable)\u001b[0m\n\u001b[1;32m   4001\u001b[0m         \u001b[0;32mif\u001b[0m \u001b[0mtakeable\u001b[0m\u001b[0;34m:\u001b[0m\u001b[0;34m\u001b[0m\u001b[0;34m\u001b[0m\u001b[0m\n\u001b[1;32m   4002\u001b[0m             \u001b[0mseries\u001b[0m \u001b[0;34m=\u001b[0m \u001b[0mself\u001b[0m\u001b[0;34m.\u001b[0m\u001b[0m_ixs\u001b[0m\u001b[0;34m(\u001b[0m\u001b[0mcol\u001b[0m\u001b[0;34m,\u001b[0m \u001b[0maxis\u001b[0m\u001b[0;34m=\u001b[0m\u001b[0;36m1\u001b[0m\u001b[0;34m)\u001b[0m\u001b[0;34m\u001b[0m\u001b[0;34m\u001b[0m\u001b[0m\n\u001b[1;32m   4003\u001b[0m             \u001b[0;32mreturn\u001b[0m \u001b[0mseries\u001b[0m\u001b[0;34m.\u001b[0m\u001b[0m_values\u001b[0m\u001b[0;34m[\u001b[0m\u001b[0mindex\u001b[0m\u001b[0;34m]\u001b[0m\u001b[0;34m\u001b[0m\u001b[0;34m\u001b[0m\u001b[0m\n\u001b[1;32m   4004\u001b[0m \u001b[0;34m\u001b[0m\u001b[0m\n\u001b[0;32m-> 4005\u001b[0;31m         \u001b[0mseries\u001b[0m \u001b[0;34m=\u001b[0m \u001b[0mself\u001b[0m\u001b[0;34m.\u001b[0m\u001b[0m_get_item_cache\u001b[0m\u001b[0;34m(\u001b[0m\u001b[0mcol\u001b[0m\u001b[0;34m)\u001b[0m\u001b[0;34m\u001b[0m\u001b[0;34m\u001b[0m\u001b[0m\n\u001b[0m\u001b[1;32m   4006\u001b[0m         \u001b[0mengine\u001b[0m \u001b[0;34m=\u001b[0m \u001b[0mself\u001b[0m\u001b[0;34m.\u001b[0m\u001b[0mindex\u001b[0m\u001b[0;34m.\u001b[0m\u001b[0m_engine\u001b[0m\u001b[0;34m\u001b[0m\u001b[0;34m\u001b[0m\u001b[0m\n\u001b[1;32m   4007\u001b[0m \u001b[0;34m\u001b[0m\u001b[0m\n\u001b[1;32m   4008\u001b[0m         \u001b[0;32mif\u001b[0m \u001b[0;32mnot\u001b[0m \u001b[0misinstance\u001b[0m\u001b[0;34m(\u001b[0m\u001b[0mself\u001b[0m\u001b[0;34m.\u001b[0m\u001b[0mindex\u001b[0m\u001b[0;34m,\u001b[0m \u001b[0mMultiIndex\u001b[0m\u001b[0;34m)\u001b[0m\u001b[0;34m:\u001b[0m\u001b[0;34m\u001b[0m\u001b[0;34m\u001b[0m\u001b[0m\n",
      "\u001b[0;32m~/Library/Python/3.9/lib/python/site-packages/pandas/core/frame.py\u001b[0m in \u001b[0;36m?\u001b[0;34m(self, item)\u001b[0m\n\u001b[1;32m   4405\u001b[0m             \u001b[0mloc\u001b[0m \u001b[0;34m=\u001b[0m \u001b[0mself\u001b[0m\u001b[0;34m.\u001b[0m\u001b[0mcolumns\u001b[0m\u001b[0;34m.\u001b[0m\u001b[0mget_loc\u001b[0m\u001b[0;34m(\u001b[0m\u001b[0mitem\u001b[0m\u001b[0;34m)\u001b[0m\u001b[0;34m\u001b[0m\u001b[0;34m\u001b[0m\u001b[0m\n\u001b[1;32m   4406\u001b[0m             \u001b[0;32mreturn\u001b[0m \u001b[0mself\u001b[0m\u001b[0;34m.\u001b[0m\u001b[0m_ixs\u001b[0m\u001b[0;34m(\u001b[0m\u001b[0mloc\u001b[0m\u001b[0;34m,\u001b[0m \u001b[0maxis\u001b[0m\u001b[0;34m=\u001b[0m\u001b[0;36m1\u001b[0m\u001b[0;34m)\u001b[0m\u001b[0;34m\u001b[0m\u001b[0;34m\u001b[0m\u001b[0m\n\u001b[1;32m   4407\u001b[0m \u001b[0;34m\u001b[0m\u001b[0m\n\u001b[1;32m   4408\u001b[0m         \u001b[0mcache\u001b[0m \u001b[0;34m=\u001b[0m \u001b[0mself\u001b[0m\u001b[0;34m.\u001b[0m\u001b[0m_item_cache\u001b[0m\u001b[0;34m\u001b[0m\u001b[0;34m\u001b[0m\u001b[0m\n\u001b[0;32m-> 4409\u001b[0;31m         \u001b[0mres\u001b[0m \u001b[0;34m=\u001b[0m \u001b[0mcache\u001b[0m\u001b[0;34m.\u001b[0m\u001b[0mget\u001b[0m\u001b[0;34m(\u001b[0m\u001b[0mitem\u001b[0m\u001b[0;34m)\u001b[0m\u001b[0;34m\u001b[0m\u001b[0;34m\u001b[0m\u001b[0m\n\u001b[0m\u001b[1;32m   4410\u001b[0m         \u001b[0;32mif\u001b[0m \u001b[0mres\u001b[0m \u001b[0;32mis\u001b[0m \u001b[0;32mNone\u001b[0m\u001b[0;34m:\u001b[0m\u001b[0;34m\u001b[0m\u001b[0;34m\u001b[0m\u001b[0m\n\u001b[1;32m   4411\u001b[0m             \u001b[0;31m# All places that call _get_item_cache have unique columns,\u001b[0m\u001b[0;34m\u001b[0m\u001b[0;34m\u001b[0m\u001b[0;34m\u001b[0m\u001b[0m\n\u001b[1;32m   4412\u001b[0m             \u001b[0;31m#  pending resolution of GH#33047\u001b[0m\u001b[0;34m\u001b[0m\u001b[0;34m\u001b[0m\u001b[0;34m\u001b[0m\u001b[0m\n",
      "\u001b[0;31mKeyboardInterrupt\u001b[0m: "
     ]
    }
   ],
   "source": [
    "def outfitToBox(outfit_index):\n",
    "    a = np.zeros(len(MyProductData))\n",
    "    for k in range(len(MyProductData)):\n",
    "        print('hola')\n",
    "        for n in range(len(MyOutfitData)):\n",
    "            if(MyOutfitData.loc[n, 'cod_outfit']==outfit_index) and (MyOutfitData.loc[n, 'cod_modelo_color'].replace(\"-\",\"_\") in MyProductData.loc[k, 'des_filename']):\n",
    "                a[k]=1\n",
    "    return a\n",
    "\n",
    "outfitToBox(129)"
   ]
  },
  {
   "cell_type": "code",
   "execution_count": null,
   "metadata": {},
   "outputs": [],
   "source": [
    "#\n",
    "def preprocessingData():\n",
    "    for index in range(len(MyOutfitData)):\n",
    "        cod_outfit = MyOutfitData.loc[index, 'cod_outfit'] # Accede a los valores de cada columna\n",
    "        cod_modelo_color = MyOutfitData.loc[index, 'cod_modelo_color']\n",
    "        \n",
    "        X[index] = cod_modelo_color\n",
    "        Y[index] = outfitToBox(cod_outfit)\n",
    "        "
   ]
  }
 ],
 "metadata": {
  "kernelspec": {
   "display_name": "Python 3",
   "language": "python",
   "name": "python3"
  },
  "language_info": {
   "codemirror_mode": {
    "name": "ipython",
    "version": 3
   },
   "file_extension": ".py",
   "mimetype": "text/x-python",
   "name": "python",
   "nbconvert_exporter": "python",
   "pygments_lexer": "ipython3",
   "version": "3.9.6"
  }
 },
 "nbformat": 4,
 "nbformat_minor": 2
}
