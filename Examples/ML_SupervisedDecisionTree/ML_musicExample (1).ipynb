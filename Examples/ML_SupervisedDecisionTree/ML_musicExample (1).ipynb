{
  "metadata": {
    "language_info": {
      "codemirror_mode": {
        "name": "python",
        "version": 3
      },
      "file_extension": ".py",
      "mimetype": "text/x-python",
      "name": "python",
      "nbconvert_exporter": "python",
      "pygments_lexer": "ipython3",
      "version": "3.8"
    },
    "kernelspec": {
      "name": "python",
      "display_name": "Python (Pyodide)",
      "language": "python"
    }
  },
  "nbformat_minor": 4,
  "nbformat": 4,
  "cells": [
    {
      "cell_type": "code",
      "source": "#Set working directory\n#import os\n#os.chdir(os.getcwd())\n#print(os.getcwd())\n\n#1-IMPORT DATA: web scrapping\nimport pandas as pd\nMyData = pd.read_csv(\"ML_music.csv\")\n#MyData.shape\n#MyData.head(10)\n\n#TRICK: esc, a/b creates new box above or below",
      "metadata": {
        "trusted": true
      },
      "execution_count": 1,
      "outputs": []
    },
    {
      "cell_type": "code",
      "source": "#Separation: input(age, gender), output(genre)\nX = MyData.drop(columns=['genre'])#remove column 'genre'\ny = MyData['genre']#Only column 'genre'",
      "metadata": {
        "trusted": true
      },
      "execution_count": 2,
      "outputs": []
    },
    {
      "cell_type": "code",
      "source": "#Machine Learning Library\nfrom sklearn.tree import DecisionTreeClassifier\nmodel = DecisionTreeClassifier()\nmodel.fit(X,y)\n#MyData #shows the classification\npredictions = model.predict([[21,1],[22,0]])\npredictions",
      "metadata": {
        "trusted": true
      },
      "execution_count": 3,
      "outputs": [
        {
          "name": "stderr",
          "text": "/lib/python3.11/site-packages/sklearn/base.py:465: UserWarning: X does not have valid feature names, but DecisionTreeClassifier was fitted with feature names\n  warnings.warn(\n",
          "output_type": "stream"
        },
        {
          "execution_count": 3,
          "output_type": "execute_result",
          "data": {
            "text/plain": "array(['HipHop', 'Dance'], dtype=object)"
          },
          "metadata": {}
        }
      ]
    },
    {
      "cell_type": "code",
      "source": "#CALCULATING ACCURACY: Separation: training(70-80%), testing(20-30%)\nfrom sklearn.tree import DecisionTreeClassifier\nmodel = DecisionTreeClassifier()\n\nfrom sklearn.model_selection import train_test_split\nX_train, X_test, y_train, y_test=train_test_split(X,y, test_size=0.2)#Randomly selects 20%\n\n#training\nmodel.fit(X_train, y_train)\npredictions = model.predict(X_test)\n\nfrom sklearn.metrics import accuracy_score\nscore = accuracy_score(y_test, predictions)\nscore\n\n#Trick: press cmd+enter to be able to run faster several times",
      "metadata": {
        "trusted": true
      },
      "execution_count": 3,
      "outputs": [
        {
          "execution_count": 3,
          "output_type": "execute_result",
          "data": {
            "text/plain": "1.0"
          },
          "metadata": {}
        }
      ]
    },
    {
      "cell_type": "code",
      "source": "#Using a model without training it:\n#Download the trained model: DO ONLY ONCE!!\nfrom sklearn.externals import joblib\njoblib.dum(model, 'music-recommender.jotlib')#Will download model at the path where this file is",
      "metadata": {},
      "execution_count": null,
      "outputs": []
    },
    {
      "cell_type": "code",
      "source": "#Run downloaded model:\nmodel = joblib.load('music-recommender.jotlib')\npredictions = model.predict([[21,1]])\npredictions",
      "metadata": {},
      "execution_count": null,
      "outputs": []
    },
    {
      "cell_type": "code",
      "source": "#Export model in a visual format\nfrom sklearn import tree\ntree.export_graphviz(\n    model, out_file='music-recommender.dot',\n    feature_names=['age', 'gender'],\n    class_names=sorted(y.unique()),\n    label='all', #Displays parameters\n    rounded=True, #Node rounded corners\n    filled = True #Coloured nodes\n) #graph description language\n#Visualize at https://dreampuf.github.io/GraphvizOnline/",
      "metadata": {
        "trusted": true
      },
      "execution_count": 4,
      "outputs": []
    },
    {
      "cell_type": "code",
      "source": "",
      "metadata": {},
      "execution_count": null,
      "outputs": []
    },
    {
      "cell_type": "code",
      "source": "",
      "metadata": {},
      "execution_count": null,
      "outputs": []
    },
    {
      "cell_type": "code",
      "source": "",
      "metadata": {},
      "execution_count": null,
      "outputs": []
    }
  ]
}